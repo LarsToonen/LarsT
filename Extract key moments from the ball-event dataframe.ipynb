{
 "cells": [
  {
   "cell_type": "markdown",
   "metadata": {},
   "source": [
    "# Code for extracting key moments from the ball-event dataframe"
   ]
  },
  {
   "cell_type": "code",
   "execution_count": null,
   "metadata": {},
   "outputs": [],
   "source": [
    "#import the functions from the event dataframe and the possession chains\n",
    "import import_ipynb\n",
    "import Event_Dataframe\n",
    "from Event_Dataframe import * "
   ]
  },
  {
   "cell_type": "code",
   "execution_count": null,
   "metadata": {},
   "outputs": [],
   "source": [
    "#function for checking whether a red card is given in a match\n",
    "def check_red_card(f24_file):\n",
    "    tree = et.ElementTree(file = f24_file)\n",
    "    gameFile = tree.getroot()\n",
    "    for game in gameFile:\n",
    "        #Iterate through each event\n",
    "        for event in game:\n",
    "            for qualifier in event:\n",
    "                if qualifier.attrib.get(\"qualifier_id\") == \"32\" or qualifier.attrib.get(\"qualifier_id\") == \"33\":\n",
    "                    return 'True'"
   ]
  },
  {
   "cell_type": "code",
   "execution_count": null,
   "metadata": {},
   "outputs": [],
   "source": [
    "#Create a dataframe for all matches in the data with goals and shots on goals.\n",
    "#I think no further explanation is needed for this one as this is also discussed\n",
    "from progressbar import ProgressBar\n",
    "import os\n",
    "import xml.etree.ElementTree as et\n",
    "import pickle\n",
    "import pandas as pd\n",
    "final_df = pd.DataFrame()\n",
    "path = 'C:\\\\Users\\\\s153035\\\\Dropbox\\\\Lars Toonen\\\\Data'\n",
    "for folder1 in os.listdir(path):\n",
    "    if folder1 == 'Seizoen 1819' or folder1 == 'Seizoen 2021':\n",
    "        for folder2 in os.listdir(path + '\\\\' + str(folder1)):\n",
    "            pbar = ProgressBar()\n",
    "            for filename in pbar(os.listdir(path + '\\\\' + str(folder1) + '\\\\'+ str(folder2))):\n",
    "                match = filename\n",
    "                for all_files in os.listdir(path + '\\\\' + str(folder1) + '\\\\' + str(folder2)+ '\\\\' + str(filename)):\n",
    "                    if all_files.endswith('metadata.xml'):\n",
    "                        metadata_file = os.path.join(path + '\\\\' + str(folder1) + '\\\\' + str(folder2) + '\\\\'+ str(filename), all_files)\n",
    "                    elif all_files.endswith('f24.xml'):\n",
    "                        event_file = os.path.join(path + '\\\\' + str(folder1) + '\\\\' + str(folder2) + '\\\\'+ str(filename), all_files)\n",
    "                if check_red_card(event_file) == 'True':\n",
    "                    pass\n",
    "                else:\n",
    "                    to_include = ['15', '16']\n",
    "                    final_table = Event_Dataframe.create_event_dataframe(event_file, metadata_file)\n",
    "                    final_table = final_table.loc[final_table['type_id'].isin(to_include)]\n",
    "                    final_table = final_table.reset_index()\n",
    "                    match_info = []\n",
    "                    for i in range(len(final_table)):\n",
    "                        match_info.append(match)\n",
    "                        if final_table['type_id'][i] == '15':\n",
    "                            final_table['type_name'][i] = 'shot on goal'\n",
    "                    final_table['match_id'] = match_info\n",
    "                    final_df = pd.concat([final_df, final_table])\n",
    "                            \n",
    "                        \n",
    "    elif folder1 == 'Seizoen 1920':\n",
    "        for folder2 in os.listdir(path + '\\\\' + str(folder1)):\n",
    "            pbar = ProgressBar()\n",
    "            for filename in pbar(os.listdir(path + '\\\\' + str(folder1) + '\\\\'+ str(folder2))):\n",
    "                match = filename\n",
    "                for files in os.listdir(path + '\\\\' + str(folder1) + '\\\\' + str(folder2)+ '\\\\' + str(filename)):\n",
    "                    if files.endswith('f24.xml'):\n",
    "                        event_file = os.path.join(path + '\\\\' + str(folder1) + '\\\\' + str(folder2) + '\\\\'+ str(filename), files)\n",
    "                        for all_files in  os.listdir(path + '\\\\' + str(folder1) + '\\\\' + str(folder2)+ '\\\\' + str(filename) + '\\\\' + str(filename) + '_TracDAT'):\n",
    "                            if all_files.endswith('metadata.xml'):\n",
    "                                metadata_file = os.path.join(path + '\\\\' + str(folder1) + '\\\\' + str(folder2)+ '\\\\' + str(filename) + '\\\\' + str(filename) + '_TracDAT', all_files)\n",
    "                if check_red_card(event_file) == 'True':\n",
    "                    pass\n",
    "                else:\n",
    "                    to_include = ['15', '16']\n",
    "                    final_table = Event_Dataframe.create_event_dataframe(event_file, metadata_file)\n",
    "                    final_table = final_table.loc[final_table['type_id'].isin(to_include)]\n",
    "                    final_table = final_table.reset_index()\n",
    "                    match_info = []\n",
    "                    for i in range(len(final_table)):\n",
    "                        match_info.append(match)\n",
    "                        if final_table['type_id'][i] == '15':\n",
    "                            final_table['type_name'][i] = 'shot on goal'\n",
    "                    final_table['match_id'] = match_info\n",
    "                    final_df = pd.concat([final_df, final_table])\n",
    "                    \n",
    "pickle.dump(final_df, open('shots and goals event dataframes.p', 'wb'))"
   ]
  },
  {
   "cell_type": "code",
   "execution_count": null,
   "metadata": {},
   "outputs": [],
   "source": []
  }
 ],
 "metadata": {
  "kernelspec": {
   "display_name": "Python 3",
   "language": "python",
   "name": "python3"
  },
  "language_info": {
   "codemirror_mode": {
    "name": "ipython",
    "version": 3
   },
   "file_extension": ".py",
   "mimetype": "text/x-python",
   "name": "python",
   "nbconvert_exporter": "python",
   "pygments_lexer": "ipython3",
   "version": "3.7.4"
  }
 },
 "nbformat": 4,
 "nbformat_minor": 2
}
